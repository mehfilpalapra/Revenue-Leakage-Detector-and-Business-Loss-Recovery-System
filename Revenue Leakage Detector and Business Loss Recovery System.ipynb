{
 "cells": [
  {
   "cell_type": "code",
   "execution_count": 54,
   "id": "3b137f39-67d4-4183-b033-da25731def5e",
   "metadata": {},
   "outputs": [],
   "source": [
    "products_df = pd.read_csv('D:/Revenue Leakage Detector and Business Loss Recovery System/products.csv')\n",
    "orders_df = pd.read_csv('D:/Revenue Leakage Detector and Business Loss Recovery System/orders.csv')\n",
    "invoices_df = pd.read_csv('D:/Revenue Leakage Detector and Business Loss Recovery System/invoices.csv')\n",
    "returns_df = pd.read_csv('D:/Revenue Leakage Detector and Business Loss Recovery System/returns.csv')\n"
   ]
  },
  {
   "cell_type": "code",
   "execution_count": 52,
   "id": "29bc4d47-579b-4b67-a8cc-2b7d65adaceb",
   "metadata": {},
   "outputs": [],
   "source": [
    "import pandas as pd\n"
   ]
  },
  {
   "cell_type": "code",
   "execution_count": 7,
   "id": "5962e2ae-680d-4659-88de-cf903f8a1371",
   "metadata": {},
   "outputs": [
    {
     "name": "stdout",
     "output_type": "stream",
     "text": [
      "Products:\n",
      "  Product_ID Product_Name        Category  Unit_Cost  Unit_Price\n",
      "0      P0001    Product_1  Home & Kitchen     276.04      306.60\n",
      "1      P0002    Product_2  Home & Kitchen      35.27      100.28\n",
      "2      P0003    Product_3     Electronics      53.30      235.93\n",
      "3      P0004    Product_4     Electronics     288.66      231.75\n",
      "4      P0005    Product_5  Home & Kitchen     404.79      639.15 \n",
      "\n",
      "Orders:\n",
      "  Order_ID Product_ID  Order_Date  Quantity_Ordered Order_Region\n",
      "0   O00001      P0014  2023-01-01                 4         East\n",
      "1   O00002      P0019  2023-01-02                 9        South\n",
      "2   O00003      P0005  2023-01-03                 1        South\n",
      "3   O00004      P0010  2023-01-04                 7        North\n",
      "4   O00005      P0001  2023-01-05                 9         East \n",
      "\n",
      "Invoices:\n",
      "  Invoice_ID Order_ID  Invoice_Amount Invoice_Date Payment_Status\n",
      "0     I00001   O00081         1612.49   2023-01-05           Paid\n",
      "1     I00002   O00085          687.69   2023-01-06        Overdue\n",
      "2     I00003   O00034         4007.24   2023-01-07           Paid\n",
      "3     I00004   O00082         4021.92   2023-01-08         Unpaid\n",
      "4     I00005   O00094          578.35   2023-01-09           Paid \n",
      "\n",
      "Returns:\n",
      "  Return_ID Order_ID Return_Date   Return_Reason\n",
      "0    R00001   O00084  2023-03-01  Incorrect Item\n",
      "1    R00002   O00031  2023-03-02  Incorrect Item\n",
      "2    R00003   O00057  2023-03-03         Damaged\n",
      "3    R00004   O00025  2023-03-04  Incorrect Item\n",
      "4    R00005   O00017  2023-03-05   Late Delivery\n"
     ]
    }
   ],
   "source": [
    "print(\"Products:\")\n",
    "print(products_df.head(), \"\\n\")\n",
    "\n",
    "print(\"Orders:\")\n",
    "print(orders_df.head(), \"\\n\")\n",
    "\n",
    "print(\"Invoices:\")\n",
    "print(invoices_df.head(), \"\\n\")\n",
    "\n",
    "print(\"Returns:\")\n",
    "print(returns_df.head())\n"
   ]
  },
  {
   "cell_type": "code",
   "execution_count": 9,
   "id": "6b2142bf-66d9-4178-96a1-0d46a7b37bba",
   "metadata": {},
   "outputs": [
    {
     "name": "stdout",
     "output_type": "stream",
     "text": [
      "Products Info:\n",
      "<class 'pandas.core.frame.DataFrame'>\n",
      "RangeIndex: 20 entries, 0 to 19\n",
      "Data columns (total 5 columns):\n",
      " #   Column        Non-Null Count  Dtype  \n",
      "---  ------        --------------  -----  \n",
      " 0   Product_ID    20 non-null     object \n",
      " 1   Product_Name  20 non-null     object \n",
      " 2   Category      20 non-null     object \n",
      " 3   Unit_Cost     20 non-null     float64\n",
      " 4   Unit_Price    20 non-null     float64\n",
      "dtypes: float64(2), object(3)\n",
      "memory usage: 932.0+ bytes\n",
      "None \n",
      "\n",
      "Orders Info:\n",
      "<class 'pandas.core.frame.DataFrame'>\n",
      "RangeIndex: 100 entries, 0 to 99\n",
      "Data columns (total 5 columns):\n",
      " #   Column            Non-Null Count  Dtype \n",
      "---  ------            --------------  ----- \n",
      " 0   Order_ID          100 non-null    object\n",
      " 1   Product_ID        100 non-null    object\n",
      " 2   Order_Date        100 non-null    object\n",
      " 3   Quantity_Ordered  100 non-null    int64 \n",
      " 4   Order_Region      100 non-null    object\n",
      "dtypes: int64(1), object(4)\n",
      "memory usage: 4.0+ KB\n",
      "None \n",
      "\n",
      "Invoices Info:\n",
      "<class 'pandas.core.frame.DataFrame'>\n",
      "RangeIndex: 90 entries, 0 to 89\n",
      "Data columns (total 5 columns):\n",
      " #   Column          Non-Null Count  Dtype  \n",
      "---  ------          --------------  -----  \n",
      " 0   Invoice_ID      90 non-null     object \n",
      " 1   Order_ID        90 non-null     object \n",
      " 2   Invoice_Amount  90 non-null     float64\n",
      " 3   Invoice_Date    90 non-null     object \n",
      " 4   Payment_Status  90 non-null     object \n",
      "dtypes: float64(1), object(4)\n",
      "memory usage: 3.6+ KB\n",
      "None \n",
      "\n",
      "Returns Info:\n",
      "<class 'pandas.core.frame.DataFrame'>\n",
      "RangeIndex: 20 entries, 0 to 19\n",
      "Data columns (total 4 columns):\n",
      " #   Column         Non-Null Count  Dtype \n",
      "---  ------         --------------  ----- \n",
      " 0   Return_ID      20 non-null     object\n",
      " 1   Order_ID       20 non-null     object\n",
      " 2   Return_Date    20 non-null     object\n",
      " 3   Return_Reason  20 non-null     object\n",
      "dtypes: object(4)\n",
      "memory usage: 772.0+ bytes\n",
      "None\n"
     ]
    }
   ],
   "source": [
    "print(\"Products Info:\")\n",
    "print(products_df.info(), \"\\n\")\n",
    "\n",
    "print(\"Orders Info:\")\n",
    "print(orders_df.info(), \"\\n\")\n",
    "\n",
    "print(\"Invoices Info:\")\n",
    "print(invoices_df.info(), \"\\n\")\n",
    "\n",
    "print(\"Returns Info:\")\n",
    "print(returns_df.info())\n"
   ]
  },
  {
   "cell_type": "code",
   "execution_count": 11,
   "id": "489b17e9-0f85-4968-b059-d0940dc8e715",
   "metadata": {},
   "outputs": [
    {
     "name": "stdout",
     "output_type": "stream",
     "text": [
      "Products Columns: ['Product_ID', 'Product_Name', 'Category', 'Unit_Cost', 'Unit_Price']\n",
      "Orders Columns: ['Order_ID', 'Product_ID', 'Order_Date', 'Quantity_Ordered', 'Order_Region']\n",
      "Invoices Columns: ['Invoice_ID', 'Order_ID', 'Invoice_Amount', 'Invoice_Date', 'Payment_Status']\n",
      "Returns Columns: ['Return_ID', 'Order_ID', 'Return_Date', 'Return_Reason']\n"
     ]
    }
   ],
   "source": [
    "print(\"Products Columns:\", products_df.columns.tolist())\n",
    "print(\"Orders Columns:\", orders_df.columns.tolist())\n",
    "print(\"Invoices Columns:\", invoices_df.columns.tolist())\n",
    "print(\"Returns Columns:\", returns_df.columns.tolist())\n"
   ]
  },
  {
   "cell_type": "code",
   "execution_count": 13,
   "id": "9ff82845-6c81-4e2f-b406-e7e24b3d27e7",
   "metadata": {},
   "outputs": [
    {
     "name": "stdout",
     "output_type": "stream",
     "text": [
      "Products:\n",
      "<class 'pandas.core.frame.DataFrame'>\n",
      "RangeIndex: 20 entries, 0 to 19\n",
      "Data columns (total 5 columns):\n",
      " #   Column        Non-Null Count  Dtype  \n",
      "---  ------        --------------  -----  \n",
      " 0   Product_ID    20 non-null     object \n",
      " 1   Product_Name  20 non-null     object \n",
      " 2   Category      20 non-null     object \n",
      " 3   Unit_Cost     20 non-null     float64\n",
      " 4   Unit_Price    20 non-null     float64\n",
      "dtypes: float64(2), object(3)\n",
      "memory usage: 932.0+ bytes\n",
      "None \n",
      "\n",
      "Orders:\n",
      "<class 'pandas.core.frame.DataFrame'>\n",
      "RangeIndex: 100 entries, 0 to 99\n",
      "Data columns (total 5 columns):\n",
      " #   Column            Non-Null Count  Dtype \n",
      "---  ------            --------------  ----- \n",
      " 0   Order_ID          100 non-null    object\n",
      " 1   Product_ID        100 non-null    object\n",
      " 2   Order_Date        100 non-null    object\n",
      " 3   Quantity_Ordered  100 non-null    int64 \n",
      " 4   Order_Region      100 non-null    object\n",
      "dtypes: int64(1), object(4)\n",
      "memory usage: 4.0+ KB\n",
      "None \n",
      "\n",
      "Invoices:\n",
      "<class 'pandas.core.frame.DataFrame'>\n",
      "RangeIndex: 90 entries, 0 to 89\n",
      "Data columns (total 5 columns):\n",
      " #   Column          Non-Null Count  Dtype  \n",
      "---  ------          --------------  -----  \n",
      " 0   Invoice_ID      90 non-null     object \n",
      " 1   Order_ID        90 non-null     object \n",
      " 2   Invoice_Amount  90 non-null     float64\n",
      " 3   Invoice_Date    90 non-null     object \n",
      " 4   Payment_Status  90 non-null     object \n",
      "dtypes: float64(1), object(4)\n",
      "memory usage: 3.6+ KB\n",
      "None \n",
      "\n",
      "Returns:\n",
      "<class 'pandas.core.frame.DataFrame'>\n",
      "RangeIndex: 20 entries, 0 to 19\n",
      "Data columns (total 4 columns):\n",
      " #   Column         Non-Null Count  Dtype \n",
      "---  ------         --------------  ----- \n",
      " 0   Return_ID      20 non-null     object\n",
      " 1   Order_ID       20 non-null     object\n",
      " 2   Return_Date    20 non-null     object\n",
      " 3   Return_Reason  20 non-null     object\n",
      "dtypes: object(4)\n",
      "memory usage: 772.0+ bytes\n",
      "None \n",
      "\n"
     ]
    }
   ],
   "source": [
    "# Check null values and data types\n",
    "print(\"Products:\")\n",
    "print(products_df.info(), '\\n')\n",
    "\n",
    "print(\"Orders:\")\n",
    "print(orders_df.info(), '\\n')\n",
    "\n",
    "print(\"Invoices:\")\n",
    "print(invoices_df.info(), '\\n')\n",
    "\n",
    "print(\"Returns:\")\n",
    "print(returns_df.info(), '\\n')\n"
   ]
  },
  {
   "cell_type": "code",
   "execution_count": 15,
   "id": "2814ff03-d7c4-45bb-a5ce-ca2cb997c9a6",
   "metadata": {},
   "outputs": [
    {
     "name": "stdout",
     "output_type": "stream",
     "text": [
      "Products Sample:\n",
      "  Product_ID Product_Name        Category  Unit_Cost  Unit_Price\n",
      "0      P0001    Product_1  Home & Kitchen     276.04      306.60\n",
      "1      P0002    Product_2  Home & Kitchen      35.27      100.28\n",
      "2      P0003    Product_3     Electronics      53.30      235.93\n",
      "3      P0004    Product_4     Electronics     288.66      231.75\n",
      "4      P0005    Product_5  Home & Kitchen     404.79      639.15 \n",
      "\n",
      "Orders Sample:\n",
      "  Order_ID Product_ID  Order_Date  Quantity_Ordered Order_Region\n",
      "0   O00001      P0014  2023-01-01                 4         East\n",
      "1   O00002      P0019  2023-01-02                 9        South\n",
      "2   O00003      P0005  2023-01-03                 1        South\n",
      "3   O00004      P0010  2023-01-04                 7        North\n",
      "4   O00005      P0001  2023-01-05                 9         East \n",
      "\n",
      "Invoices Sample:\n",
      "  Invoice_ID Order_ID  Invoice_Amount Invoice_Date Payment_Status\n",
      "0     I00001   O00081         1612.49   2023-01-05           Paid\n",
      "1     I00002   O00085          687.69   2023-01-06        Overdue\n",
      "2     I00003   O00034         4007.24   2023-01-07           Paid\n",
      "3     I00004   O00082         4021.92   2023-01-08         Unpaid\n",
      "4     I00005   O00094          578.35   2023-01-09           Paid \n",
      "\n",
      "Returns Sample:\n",
      "  Return_ID Order_ID Return_Date   Return_Reason\n",
      "0    R00001   O00084  2023-03-01  Incorrect Item\n",
      "1    R00002   O00031  2023-03-02  Incorrect Item\n",
      "2    R00003   O00057  2023-03-03         Damaged\n",
      "3    R00004   O00025  2023-03-04  Incorrect Item\n",
      "4    R00005   O00017  2023-03-05   Late Delivery \n",
      "\n"
     ]
    }
   ],
   "source": [
    "# Peek into data\n",
    "print(\"Products Sample:\")\n",
    "print(products_df.head(), '\\n')\n",
    "\n",
    "print(\"Orders Sample:\")\n",
    "print(orders_df.head(), '\\n')\n",
    "\n",
    "print(\"Invoices Sample:\")\n",
    "print(invoices_df.head(), '\\n')\n",
    "\n",
    "print(\"Returns Sample:\")\n",
    "print(returns_df.head(), '\\n')\n"
   ]
  },
  {
   "cell_type": "code",
   "execution_count": 17,
   "id": "1e8ce661-8ddd-4f36-a0fa-6835cd493459",
   "metadata": {},
   "outputs": [
    {
     "name": "stdout",
     "output_type": "stream",
     "text": [
      "Orders dtypes:\n",
      " Order_ID                    object\n",
      "Product_ID                  object\n",
      "Order_Date          datetime64[ns]\n",
      "Quantity_Ordered             int64\n",
      "Order_Region                object\n",
      "dtype: object \n",
      "\n",
      "Invoices dtypes:\n",
      " Invoice_ID                object\n",
      "Order_ID                  object\n",
      "Invoice_Amount           float64\n",
      "Invoice_Date      datetime64[ns]\n",
      "Payment_Status            object\n",
      "dtype: object \n",
      "\n",
      "Returns dtypes:\n",
      " Return_ID                object\n",
      "Order_ID                 object\n",
      "Return_Date      datetime64[ns]\n",
      "Return_Reason            object\n",
      "dtype: object \n",
      "\n"
     ]
    }
   ],
   "source": [
    "# Convert date columns to datetime\n",
    "orders_df['Order_Date'] = pd.to_datetime(orders_df['Order_Date'])\n",
    "invoices_df['Invoice_Date'] = pd.to_datetime(invoices_df['Invoice_Date'])\n",
    "returns_df['Return_Date'] = pd.to_datetime(returns_df['Return_Date'])\n",
    "\n",
    "# Ensure Quantity is integer\n",
    "orders_df['Quantity_Ordered'] = pd.to_numeric(orders_df['Quantity_Ordered'], errors='coerce')\n",
    "\n",
    "# Check if everything is in order\n",
    "print(\"Orders dtypes:\\n\", orders_df.dtypes, '\\n')\n",
    "print(\"Invoices dtypes:\\n\", invoices_df.dtypes, '\\n')\n",
    "print(\"Returns dtypes:\\n\", returns_df.dtypes, '\\n')\n"
   ]
  },
  {
   "cell_type": "code",
   "execution_count": 19,
   "id": "a954ec39-0863-4337-875e-6bb9a11e2ed7",
   "metadata": {},
   "outputs": [
    {
     "name": "stdout",
     "output_type": "stream",
     "text": [
      "Master DataFrame shape: (100, 15)\n",
      "Sample:\n",
      "   Order_ID Product_ID Order_Date  Quantity_Ordered Order_Region Product_Name  \\\n",
      "0   O00001      P0014 2023-01-01                 4         East   Product_14   \n",
      "1   O00002      P0019 2023-01-02                 9        South   Product_19   \n",
      "2   O00003      P0005 2023-01-03                 1        South    Product_5   \n",
      "3   O00004      P0010 2023-01-04                 7        North   Product_10   \n",
      "4   O00005      P0001 2023-01-05                 9         East    Product_1   \n",
      "\n",
      "         Category  Unit_Cost  Unit_Price Invoice_ID  Invoice_Amount  \\\n",
      "0           Books     349.65      453.93     I00069         3750.92   \n",
      "1     Electronics     387.96      760.44        NaN             NaN   \n",
      "2  Home & Kitchen     404.79      639.15     I00021         1925.45   \n",
      "3        Clothing     387.87      338.09     I00059         2940.89   \n",
      "4  Home & Kitchen     276.04      306.60     I00054          491.76   \n",
      "\n",
      "  Invoice_Date Payment_Status Return_Date  Return_Reason  \n",
      "0   2023-03-14           Paid  2023-03-15        Damaged  \n",
      "1          NaT            NaN         NaT            NaN  \n",
      "2   2023-01-25        Overdue  2023-03-07  Late Delivery  \n",
      "3   2023-03-04           Paid  2023-03-17        Damaged  \n",
      "4   2023-02-27           Paid         NaT            NaN  \n"
     ]
    }
   ],
   "source": [
    "# Merge Orders with Products to get cost and price info\n",
    "order_product_df = pd.merge(orders_df, products_df, on='Product_ID', how='left')\n",
    "\n",
    "# Merge with Invoices to get billing and payment status\n",
    "order_invoice_df = pd.merge(order_product_df, invoices_df, on='Order_ID', how='left')\n",
    "\n",
    "# Merge with Returns to know if any item was returned\n",
    "master_df = pd.merge(order_invoice_df, returns_df[['Order_ID', 'Return_Date', 'Return_Reason']], \n",
    "                     on='Order_ID', how='left')\n",
    "\n",
    "# Check final structure\n",
    "print(\"Master DataFrame shape:\", master_df.shape)\n",
    "print(\"Sample:\\n\", master_df.head())\n"
   ]
  },
  {
   "cell_type": "code",
   "execution_count": 21,
   "id": "c3c5af96-d0ac-4c0e-9e3c-496d21d9375a",
   "metadata": {},
   "outputs": [],
   "source": [
    "# Revenue: Unit_Price * Quantity_Ordered\n",
    "master_df['Expected_Revenue'] = master_df['Unit_Price'] * master_df['Quantity_Ordered']\n",
    "\n",
    "# Cost: Unit_Cost * Quantity_Ordered\n",
    "master_df['Total_Cost'] = master_df['Unit_Cost'] * master_df['Quantity_Ordered']\n",
    "\n",
    "# Profit: Revenue - Cost\n",
    "master_df['Expected_Profit'] = master_df['Expected_Revenue'] - master_df['Total_Cost']\n",
    "\n",
    "# Invoice Gap: Difference between expected revenue and actual invoice amount (NaN if not invoiced)\n",
    "master_df['Revenue_Leak'] = master_df['Expected_Revenue'] - master_df['Invoice_Amount']\n",
    "\n",
    "# Flag Unpaid or Overdue Invoices\n",
    "master_df['Payment_Issue'] = master_df['Payment_Status'].isin(['Unpaid', 'Overdue'])\n",
    "\n",
    "# Flag Returned Orders\n",
    "master_df['Is_Returned'] = master_df['Return_Date'].notna()\n"
   ]
  },
  {
   "cell_type": "code",
   "execution_count": 23,
   "id": "530a934e-931f-47c8-a689-eee3ddcc123a",
   "metadata": {},
   "outputs": [
    {
     "name": "stdout",
     "output_type": "stream",
     "text": [
      "  Order_ID  Expected_Revenue  Invoice_Amount  Revenue_Leak Payment_Status  \\\n",
      "0   O00001           1815.72         3750.92      -1935.20           Paid   \n",
      "1   O00002           6843.96             NaN           NaN            NaN   \n",
      "2   O00003            639.15         1925.45      -1286.30        Overdue   \n",
      "3   O00004           2366.63         2940.89       -574.26           Paid   \n",
      "4   O00005           2759.40          491.76       2267.64           Paid   \n",
      "\n",
      "   Payment_Issue  Is_Returned  \n",
      "0          False         True  \n",
      "1          False        False  \n",
      "2           True         True  \n",
      "3          False         True  \n",
      "4          False        False  \n"
     ]
    }
   ],
   "source": [
    "# Check updated dataset\n",
    "print(master_df[['Order_ID', 'Expected_Revenue', 'Invoice_Amount', 'Revenue_Leak', \n",
    "                 'Payment_Status', 'Payment_Issue', 'Is_Returned']].head())\n"
   ]
  },
  {
   "cell_type": "code",
   "execution_count": 25,
   "id": "e688cd59-5d43-46b8-ba12-46cd37d25da6",
   "metadata": {},
   "outputs": [],
   "source": [
    "missing_invoices = master_df[master_df['Invoice_Amount'].isna()]\n"
   ]
  },
  {
   "cell_type": "code",
   "execution_count": 27,
   "id": "af04ea4d-eaa4-42d1-b17e-249805e8bf86",
   "metadata": {},
   "outputs": [],
   "source": [
    "under_invoiced = master_df[master_df['Revenue_Leak'] > 0]\n"
   ]
  },
  {
   "cell_type": "code",
   "execution_count": 29,
   "id": "3462bcff-a178-4fbf-adca-af77a737813b",
   "metadata": {},
   "outputs": [],
   "source": [
    "over_invoiced = master_df[master_df['Revenue_Leak'] < 0]\n"
   ]
  },
  {
   "cell_type": "code",
   "execution_count": 31,
   "id": "47719e72-c51c-40da-b66f-37203abf1962",
   "metadata": {},
   "outputs": [],
   "source": [
    "payment_issues = master_df[master_df['Payment_Issue']]\n"
   ]
  },
  {
   "cell_type": "code",
   "execution_count": 33,
   "id": "220a87dc-577c-417b-80fe-0d8f06bb5a3b",
   "metadata": {},
   "outputs": [],
   "source": [
    "returned_orders = master_df[master_df['Is_Returned']]\n"
   ]
  },
  {
   "cell_type": "code",
   "execution_count": 35,
   "id": "e654ef6b-e3de-4b7c-8e13-3362150ca90b",
   "metadata": {},
   "outputs": [
    {
     "name": "stdout",
     "output_type": "stream",
     "text": [
      "Missing Invoices: 10\n",
      "Under-Invoiced Orders: 40\n",
      "Over-Invoiced Orders: 50\n",
      "Payment Issues: 53\n",
      "Returned Orders: 20\n"
     ]
    }
   ],
   "source": [
    "print(\"Missing Invoices:\", missing_invoices.shape[0])\n",
    "print(\"Under-Invoiced Orders:\", under_invoiced.shape[0])\n",
    "print(\"Over-Invoiced Orders:\", over_invoiced.shape[0])\n",
    "print(\"Payment Issues:\", payment_issues.shape[0])\n",
    "print(\"Returned Orders:\", returned_orders.shape[0])\n"
   ]
  },
  {
   "cell_type": "code",
   "execution_count": 37,
   "id": "e9423541-cbb3-40a4-a0dd-c105cbae19fd",
   "metadata": {},
   "outputs": [],
   "source": [
    "missing_invoices.to_csv('Missing_Invoices.csv', index=False)\n",
    "under_invoiced.to_csv('Under_Invoiced_Orders.csv', index=False)\n",
    "over_invoiced.to_csv('Over_Invoiced_Orders.csv', index=False)\n",
    "payment_issues.to_csv('Payment_Issues.csv', index=False)\n",
    "returned_orders.to_csv('Returned_Orders.csv', index=False)\n"
   ]
  },
  {
   "cell_type": "code",
   "execution_count": null,
   "id": "eab4a4a2-4c89-4063-ae50-b726aa7408af",
   "metadata": {},
   "outputs": [],
   "source": [
    "# ------------------ AI Model: Revenue Risk Prediction ------------------\n"
   ]
  },
  {
   "cell_type": "code",
   "execution_count": null,
   "id": "81f9bd77-23be-4c7e-bb23-deaa88dbb4b9",
   "metadata": {},
   "outputs": [],
   "source": []
  }
 ],
 "metadata": {
  "kernelspec": {
   "display_name": "Python 3 (ipykernel)",
   "language": "python",
   "name": "python3"
  },
  "language_info": {
   "codemirror_mode": {
    "name": "ipython",
    "version": 3
   },
   "file_extension": ".py",
   "mimetype": "text/x-python",
   "name": "python",
   "nbconvert_exporter": "python",
   "pygments_lexer": "ipython3",
   "version": "3.12.4"
  }
 },
 "nbformat": 4,
 "nbformat_minor": 5
}
